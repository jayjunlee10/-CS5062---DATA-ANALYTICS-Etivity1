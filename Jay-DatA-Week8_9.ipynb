{
 "cells": [
  {
   "cell_type": "markdown",
   "id": "342683ab-9278-4ec6-8b42-40d89439646f",
   "metadata": {},
   "source": [
    "Student Name: Jay Jun Lee\n",
    "\n",
    "Student ID: "
   ]
  },
  {
   "cell_type": "markdown",
   "id": "87737cfb-8b2e-4911-8a83-fea205d2cfe8",
   "metadata": {},
   "source": [
    "Task 1: Exploratory Data Analysis (EDA)"
   ]
  },
  {
   "cell_type": "markdown",
   "id": "6302de0d-dfd8-4f92-b5a5-05474556fdb3",
   "metadata": {},
   "source": [
    "Tasks\n",
    "Dataset to use in the tasks below: bank.csv\n",
    "\n",
    "This dataset is an excerpt of the Bank Marketing dataset from the UCI repository. Please refer to the description of the dataset at the UCI repository for understanding the meaning of the columns."
   ]
  },
  {
   "cell_type": "markdown",
   "id": "6404b678-52f0-476a-8692-c607c3747678",
   "metadata": {},
   "source": [
    "Input variables:\n",
    "   # bank client data:\n",
    "   1 - age (numeric)\n",
    " \n",
    " 2 - job : type of job (categorical: \"admin.\",\"unknown\",\"unemployed\",\"management\",\"housemaid\",\"entrepreneur\",\"student\",\n",
    "                                       \"blue-collar\",\"self-employed\",\"retired\",\"technician\",\"services\") \n",
    "  \n",
    "  3 - marital : marital status (categorical: \"married\",\"divorced\",\"single\"; note: \"divorced\" means divorced or widowed)\n",
    "  \n",
    "  4 - education (categorical: \"unknown\",\"secondary\",\"primary\",\"tertiary\")\n",
    "  \n",
    "  5 - default: has credit in default? (binary: \"yes\",\"no\")\n",
    "  \n",
    "  6 - balance: average yearly balance, in euros (numeric) \n",
    "  \n",
    "  7 - housing: has housing loan? (binary: \"yes\",\"no\")\n",
    "  \n",
    "  8 - loan: has personal loan? (binary: \"yes\",\"no\")\n",
    "  \n",
    "  # related with the last contact of the current campaign:\n",
    "  \n",
    "  9 - contact: contact communication type (categorical: \"unknown\",\"telephone\",\"cellular\") \n",
    "  \n",
    "  10 - day: last contact day of the month (numeric)\n",
    "  \n",
    "  11 - month: last contact month of year (categorical: \"jan\", \"feb\", \"mar\", ..., \"nov\", \"dec\")\n",
    "  \n",
    "  12 - duration: last contact duration, in seconds (numeric)\n",
    " \n",
    " # other attributes:\n",
    "  \n",
    "  13 - campaign: number of contacts performed during this campaign and for this client (numeric, includes last contact)\n",
    "  \n",
    "  14 - pdays: number of days that passed by after the client was last contacted from a previous campaign (numeric, -1 means client was not previously contacted)\n",
    "  \n",
    "  15 - previous: number of contacts performed before this campaign and for this client (numeric)\n",
    "  \n",
    "  16 - poutcome: outcome of the previous marketing campaign (categorical: \"unknown\",\"other\",\"failure\",\"success\")\n",
    "\n",
    "  Output variable (desired target):\n",
    "\n",
    "17 - y - has the client subscribed a term deposit? (binary: \"yes\",\"no\")"
   ]
  },
  {
   "cell_type": "markdown",
   "id": "4320997b-1c1b-408a-8a87-4bb063fd59ba",
   "metadata": {},
   "source": [
    "## Task 1: Exploratory Data Analysis (EDA)\n",
    "Formulate a particular question that might be interesting to answer by exploring the bank dataset (approx. 50 words in a markdown cell)."
   ]
  },
  {
   "cell_type": "markdown",
   "id": "eb0986ec-09d3-4e25-9781-c44a0dc890cd",
   "metadata": {},
   "source": [
    "How does the distribution of account balances vary across different age in the dataset, and is there a relationship between age and balance?"
   ]
  },
  {
   "cell_type": "markdown",
   "id": "ab877d0a-5ecd-487f-bbe5-c07ee20280d9",
   "metadata": {},
   "source": [
    " # Calculate statistics for the numerical and categorical attributes. Draw a short conclusion (approx. 150 words in a markdown cell)."
   ]
  },
  {
   "cell_type": "markdown",
   "id": "954cae7c-b8fe-475b-b9a1-a8e0aff04f9b",
   "metadata": {},
   "source": [
    "For numerical attributes like age, balance, duration, etc., calculate descriptive statistics such as mean, median, minimum, maximum, and standard deviation.\n",
    "\n",
    "For categorical attributes like job, marital status, education, etc., calculate frequency counts and proportions for each category."
   ]
  },
  {
   "cell_type": "code",
   "execution_count": 59,
   "id": "3236c793-f5d2-415e-999d-5aa055d20670",
   "metadata": {
    "tags": []
   },
   "outputs": [],
   "source": [
    "import pandas as pd\n",
    "import numpy as np\n",
    "import matplotlib.pyplot as plt\n",
    "import seaborn as sns"
   ]
  },
  {
   "cell_type": "code",
   "execution_count": null,
   "id": "8d0ec7e4-17df-4dd7-bc23-cf56ecbc3d29",
   "metadata": {},
   "outputs": [],
   "source": [
    "data = pd.read_csv(\"bank.csv\")"
   ]
  },
  {
   "cell_type": "code",
   "execution_count": 8,
   "id": "873c7ac2-27cb-4c8b-9bb5-4ef321fc1c2d",
   "metadata": {
    "tags": []
   },
   "outputs": [
    {
     "name": "stdout",
     "output_type": "stream",
     "text": [
      "Descriptive Statistics for Numerical Attributes:\n",
      "               age       balance          day     duration     campaign  \\\n",
      "count  1988.000000   2000.000000  2000.000000  2000.000000  2000.000000   \n",
      "mean     41.753018   1413.663500    13.851500   292.020500     1.909500   \n",
      "std      12.724358   3131.224213     9.712189   221.557295     1.378862   \n",
      "min      18.000000   -980.000000     1.000000     7.000000     1.000000   \n",
      "25%      32.000000    201.500000     5.000000   146.000000     1.000000   \n",
      "50%      38.000000    551.000000    12.000000   236.000000     1.000000   \n",
      "75%      50.000000   1644.500000    23.000000   379.000000     2.000000   \n",
      "max      93.000000  81204.000000    31.000000  1823.000000    11.000000   \n",
      "\n",
      "             pdays     previous  \n",
      "count  2000.000000  2000.000000  \n",
      "mean    167.896000     2.561500  \n",
      "std     131.754126     3.400735  \n",
      "min      -1.000000     0.000000  \n",
      "25%      75.750000     1.000000  \n",
      "50%     182.000000     2.000000  \n",
      "75%     251.000000     3.000000  \n",
      "max     854.000000    55.000000  \n",
      "\n",
      "Frequency Counts and Proportions for Categorical Attributes:\n",
      "\n",
      "Job:\n",
      "               Counts  Proportion\n",
      "management        461    0.231658\n",
      "technician        348    0.174874\n",
      "blue-collar       298    0.149749\n",
      "admin.            247    0.124121\n",
      "services          165    0.082915\n",
      "retired           162    0.081407\n",
      "student            96    0.048241\n",
      "unemployed         69    0.034673\n",
      "self-employed      64    0.032161\n",
      "entrepreneur       45    0.022613\n",
      "housemaid          35    0.017588\n",
      "\n",
      "Marital:\n",
      "          Counts  Proportion\n",
      "married     1111      0.5555\n",
      "single       674      0.3370\n",
      "divorced     215      0.1075\n",
      "\n",
      "Education:\n",
      "           Counts  Proportion\n",
      "secondary     995    0.524789\n",
      "tertiary      684    0.360759\n",
      "primary       217    0.114451\n",
      "\n",
      "Default:\n",
      "     Counts  Proportion\n",
      "no     1985      0.9925\n",
      "yes      15      0.0075\n",
      "\n",
      "Housing:\n",
      "     Counts  Proportion\n",
      "no     1037      0.5185\n",
      "yes     963      0.4815\n",
      "\n",
      "Loan:\n",
      "     Counts  Proportion\n",
      "no     1750       0.875\n",
      "yes     250       0.125\n",
      "\n",
      "Contact:\n",
      "           Counts  Proportion\n",
      "cellular     1663    0.919292\n",
      "telephone     146    0.080708\n",
      "\n",
      "Month:\n",
      "     Counts  Proportion\n",
      "feb     404      0.2020\n",
      "may     333      0.1665\n",
      "jan     245      0.1225\n",
      "apr     205      0.1025\n",
      "jul     167      0.0835\n",
      "aug     136      0.0680\n",
      "sep     134      0.0670\n",
      "jun     104      0.0520\n",
      "oct      93      0.0465\n",
      "mar      70      0.0350\n",
      "nov      68      0.0340\n",
      "dec      41      0.0205\n",
      "\n",
      "Poutcome:\n",
      "         Counts  Proportion\n",
      "failure     955    0.617723\n",
      "success     444    0.287193\n",
      "other       147    0.095084\n",
      "\n",
      "Subscribed:\n",
      "     Counts  Proportion\n",
      "no     1000         0.5\n",
      "yes    1000         0.5\n"
     ]
    }
   ],
   "source": [
    "# Calculate the statistics for numerical attributes\n",
    "numerical_stats = data.describe()\n",
    "\n",
    "# Coun the frequency  /proportion for categorical attributes\n",
    "categorical_stats = {}\n",
    "categorical_columns = ['job', 'marital', 'education', 'default', 'housing', 'loan', 'contact', 'month', 'poutcome', 'subscribed']\n",
    "for column in categorical_columns:\n",
    "    counts = data[column].value_counts()\n",
    "    proportions = counts / counts.sum()\n",
    "    categorical_stats[column] = pd.DataFrame({'Counts': counts, 'Proportion': proportions})\n",
    "\n",
    "# Numerical statistics\n",
    "print(\"Descriptive Statistics for Numerical Attributes:\")\n",
    "print(numerical_stats)\n",
    "\n",
    "# Categorical statistics\n",
    "print(\"\\nFrequency Counts and Proportions for Categorical Attributes:\")\n",
    "for column, stats in categorical_stats.items():\n",
    "    print(f\"\\n{column.capitalize()}:\")\n",
    "    print(stats)"
   ]
  },
  {
   "cell_type": "markdown",
   "id": "13d9ed60-0651-4a7e-995c-d3e10cbadd0a",
   "metadata": {},
   "source": [
    "Conclusion:\n"
   ]
  },
  {
   "cell_type": "markdown",
   "id": "425bf9ca-fd6b-43cb-9789-a64885296952",
   "metadata": {
    "tags": []
   },
   "source": [
    " # Use at least two different plotting techniques to plot the distribution of some numerical attributes. Draw short conclusions (approx. 150 words in a markdown cell)."
   ]
  },
  {
   "cell_type": "code",
   "execution_count": 43,
   "id": "1591f83e-ccc6-471c-a261-795f72d149d8",
   "metadata": {
    "tags": []
   },
   "outputs": [
    {
     "data": {
      "image/png": "[encoded data removed]",
      "text/plain": [
       "<Figure size 640x480 with 1 Axes>"
      ]
     },
     "metadata": {},
     "output_type": "display_data"
    },
    {
     "data": {
      "image/png": "[encoded data removed]",
      "text/plain": [
       "<Figure size 640x480 with 1 Axes>"
      ]
     },
     "metadata": {},
     "output_type": "display_data"
    }
   ],
   "source": [
    "# Histogram\n",
    "plt.hist(data[data['subscribed'] == 'yes']['duration'], bins=30, alpha=0.5, label='Subscribed', color='blue')\n",
    "plt.hist(data[data['subscribed'] == 'no']['duration'], bins=30, alpha=0.5, label='Not Subscribed', color='red')\n",
    "plt.title('Distribution of Call Duration by Subscription Status')\n",
    "plt.xlabel('Duration')\n",
    "plt.ylabel('Frequency')\n",
    "plt.legend()\n",
    "plt.show()\n",
    "\n",
    "# Boxplot\n",
    "sns.boxplot(x='subscribed', y='duration', data=data)\n",
    "plt.title('Distribution of Call Duration by Subscription Status')\n",
    "plt.xlabel('Subscription Status')\n",
    "plt.ylabel(' Duration')\n",
    "plt.show()"
   ]
  },
  {
   "cell_type": "markdown",
   "id": "a45368cb-733b-4c33-8e4a-a3485e917770",
   "metadata": {},
   "source": [
    "Conclusions: \n",
    "The histogram displays a positively skewed distribution for call duration, indicating that most calls were on the side of the shorter duration. The boxplot highlights that subscribed customers tend to have longer call durations compared to non-subscribed customers."
   ]
  },
  {
   "cell_type": "markdown",
   "id": "3a4664f1-80f2-4c96-a76f-a93350df954b",
   "metadata": {
    "tags": []
   },
   "source": [
    "# Generate at least two plots with the combined distribution of attributes. Draw a short conclusion (approx. 150 words in a markdown cell)."
   ]
  },
  {
   "cell_type": "code",
   "execution_count": null,
   "id": "44153d77-329c-43c1-89c5-8cf17e63935a",
   "metadata": {
    "tags": []
   },
   "outputs": [],
   "source": []
  },
  {
   "cell_type": "markdown",
   "id": "a0544242-5aa7-4b82-b0fd-5f296c17ad79",
   "metadata": {},
   "source": [
    " ## Task 2: Data Preparation\n"
   ]
  },
  {
   "cell_type": "markdown",
   "id": "e42470e2-242e-4564-b952-8c0c04b160f9",
   "metadata": {
    "tags": []
   },
   "source": [
    "In the same Jupyter notebook etivity1.ipynb, continue with preparing the bank dataset for machine learning by following the notebook Tutorial 1-2 - Data Preparation.ipynb as an example.\n",
    "\n",
    "Ensure that you have:\n",
    "\n",
    "encoded all categorical attributes as numerical,\n",
    "\n",
    "filled in all missing values,\n",
    "\n",
    "applied a scaler to rescale features,\n",
    "\n",
    "treated outliers and skewed attribute distribution appropriately,\n",
    "\n",
    "created at least one new feature from the existing ones.\n",
    "\n",
    "Shortly describe and justify the data preparation choices you have made in markdown cells."
   ]
  },
  {
   "cell_type": "code",
   "execution_count": 75,
   "id": "844a6de9-9f6a-43d5-884d-4c453972c45e",
   "metadata": {
    "tags": []
   },
   "outputs": [],
   "source": [
    "import pandas as pd\n",
    "import numpy as np\n",
    "from sklearn.preprocessing import RobustScaler\n",
    "import matplotlib.pyplot as plt\n",
    "%matplotlib inline\n",
    "\n",
    "df = pd.read_csv(\"bank_copy.csv\")"
   ]
  },
  {
   "cell_type": "code",
   "execution_count": 76,
   "id": "db835750-5f55-4d94-9741-a539cc01401c",
   "metadata": {
    "tags": []
   },
   "outputs": [],
   "source": [
    "# Define numerical and categorical attributes\n",
    "numerical_cols = ['age', 'balance', 'duration', 'campaign', 'pdays', 'previous']\n",
    "categorical_cols = ['job', 'marital', 'education', 'default', 'housing', 'loan', 'contact', 'month', 'poutcome', 'subscribed']\n"
   ]
  },
  {
   "cell_type": "markdown",
   "id": "03581c31-53f0-48fb-81be-2d6147ba2e41",
   "metadata": {},
   "source": [
    "Overview of the data again"
   ]
  },
  {
   "cell_type": "code",
   "execution_count": 83,
   "id": "ef1bd26a-bf50-44a9-a457-9b01094b4aa2",
   "metadata": {
    "tags": []
   },
   "outputs": [
    {
     "name": "stdout",
     "output_type": "stream",
     "text": [
      "Descriptive Statistics for Numerical Attributes:\n",
      "               age       balance          day     duration     campaign  \\\n",
      "count  1988.000000   2000.000000  2000.000000  2000.000000  2000.000000   \n",
      "mean     41.753018   1413.663500    13.851500   292.020500     1.909500   \n",
      "std      12.724358   3131.224213     9.712189   221.557295     1.378862   \n",
      "min      18.000000   -980.000000     1.000000     7.000000     1.000000   \n",
      "25%      32.000000    201.500000     5.000000   146.000000     1.000000   \n",
      "50%      38.000000    551.000000    12.000000   236.000000     1.000000   \n",
      "75%      50.000000   1644.500000    23.000000   379.000000     2.000000   \n",
      "max      93.000000  81204.000000    31.000000  1823.000000    11.000000   \n",
      "\n",
      "             pdays     previous  \n",
      "count  2000.000000  2000.000000  \n",
      "mean    167.896000     2.561500  \n",
      "std     131.754126     3.400735  \n",
      "min      -1.000000     0.000000  \n",
      "25%      75.750000     1.000000  \n",
      "50%     182.000000     2.000000  \n",
      "75%     251.000000     3.000000  \n",
      "max     854.000000    55.000000  \n",
      "\n",
      "Frequency Counts and Proportions for Categorical Attributes:\n",
      "\n",
      "Job:\n",
      "               Counts  Proportion\n",
      "management        461    0.231658\n",
      "technician        348    0.174874\n",
      "blue-collar       298    0.149749\n",
      "admin.            247    0.124121\n",
      "services          165    0.082915\n",
      "retired           162    0.081407\n",
      "student            96    0.048241\n",
      "unemployed         69    0.034673\n",
      "self-employed      64    0.032161\n",
      "entrepreneur       45    0.022613\n",
      "housemaid          35    0.017588\n",
      "\n",
      "Marital:\n",
      "          Counts  Proportion\n",
      "married     1111      0.5555\n",
      "single       674      0.3370\n",
      "divorced     215      0.1075\n",
      "\n",
      "Education:\n",
      "           Counts  Proportion\n",
      "secondary     995    0.524789\n",
      "tertiary      684    0.360759\n",
      "primary       217    0.114451\n",
      "\n",
      "Default:\n",
      "     Counts  Proportion\n",
      "no     1985      0.9925\n",
      "yes      15      0.0075\n",
      "\n",
      "Housing:\n",
      "     Counts  Proportion\n",
      "no     1037      0.5185\n",
      "yes     963      0.4815\n",
      "\n",
      "Loan:\n",
      "     Counts  Proportion\n",
      "no     1750       0.875\n",
      "yes     250       0.125\n",
      "\n",
      "Contact:\n",
      "           Counts  Proportion\n",
      "cellular     1663    0.919292\n",
      "telephone     146    0.080708\n",
      "\n",
      "Month:\n",
      "     Counts  Proportion\n",
      "feb     404      0.2020\n",
      "may     333      0.1665\n",
      "jan     245      0.1225\n",
      "apr     205      0.1025\n",
      "jul     167      0.0835\n",
      "aug     136      0.0680\n",
      "sep     134      0.0670\n",
      "jun     104      0.0520\n",
      "oct      93      0.0465\n",
      "mar      70      0.0350\n",
      "nov      68      0.0340\n",
      "dec      41      0.0205\n",
      "\n",
      "Poutcome:\n",
      "         Counts  Proportion\n",
      "failure     955    0.617723\n",
      "success     444    0.287193\n",
      "other       147    0.095084\n",
      "\n",
      "Subscribed:\n",
      "     Counts  Proportion\n",
      "no     1000         0.5\n",
      "yes    1000         0.5\n"
     ]
    }
   ],
   "source": [
    "# Calculate the statistics for numerical attributes\n",
    "numerical_cols = data.describe()\n",
    "\n",
    "# Coun the frequency  /proportion for categorical attributes\n",
    "categorical_stats = {}\n",
    "for column in categorical_cols:\n",
    "    counts = data[column].value_counts()\n",
    "    proportions = counts / counts.sum()\n",
    "    categorical_stats[column] = pd.DataFrame({'Counts': counts, 'Proportion': proportions})\n",
    "\n",
    "# Numerical statistics\n",
    "print(\"Descriptive Statistics for Numerical Attributes:\")\n",
    "print(numerical_stats)\n",
    "\n",
    "# Categorical statistics\n",
    "print(\"\\nFrequency Counts and Proportions for Categorical Attributes:\")\n",
    "for column, stats in categorical_stats.items():\n",
    "    print(f\"\\n{column.capitalize()}:\")\n",
    "    print(stats)"
   ]
  },
  {
   "cell_type": "code",
   "execution_count": null,
   "id": "53a6f4e7-17fa-4e6b-b77a-0a1546cfe525",
   "metadata": {
    "tags": []
   },
   "outputs": [],
   "source": []
  },
  {
   "cell_type": "code",
   "execution_count": null,
   "id": "2d891ace-621b-476c-8e8d-1e4a0a5876a9",
   "metadata": {},
   "outputs": [],
   "source": []
  }
 ],
 "metadata": {
  "kernelspec": {
   "display_name": "Python 3 (ipykernel)",
   "language": "python",
   "name": "python3"
  },
  "language_info": {
   "codemirror_mode": {
    "name": "ipython",
    "version": 3
   },
   "file_extension": ".py",
   "mimetype": "text/x-python",
   "name": "python",
   "nbconvert_exporter": "python",
   "pygments_lexer": "ipython3",
   "version": "3.11.4"
  }
 },
 "nbformat": 4,
 "nbformat_minor": 5
}
